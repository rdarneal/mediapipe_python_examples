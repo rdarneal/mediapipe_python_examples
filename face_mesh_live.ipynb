{
 "cells": [
  {
   "attachments": {},
   "cell_type": "markdown",
   "metadata": {},
   "source": [
    "# Mediapipe Face mesh Live Stream Example \n",
    "This model can be used to track face landmarks, including contours, and iris location."
   ]
  },
  {
   "cell_type": "code",
   "execution_count": 1,
   "metadata": {},
   "outputs": [],
   "source": [
    "#import dependencies\n",
    "import cv2\n",
    "import mediapipe as mp"
   ]
  },
  {
   "cell_type": "code",
   "execution_count": 2,
   "metadata": {},
   "outputs": [],
   "source": [
    "# setup face mesh solutions and drawing\n",
    "mp_face_mesh = mp.solutions.face_mesh\n",
    "mp_drawing = mp.solutions.drawing_utils\n",
    "mp_drawing_styles = mp.solutions.drawing_styles"
   ]
  },
  {
   "cell_type": "code",
   "execution_count": 3,
   "metadata": {},
   "outputs": [
    {
     "name": "stderr",
     "output_type": "stream",
     "text": [
      "INFO: Created TensorFlow Lite XNNPACK delegate for CPU.\n",
      "qt.qpa.plugin: Could not find the Qt platform plugin \"wayland\" in \"/home/robert/miniconda3/envs/mpipe/lib/python3.9/site-packages/cv2/qt/plugins\"\n"
     ]
    }
   ],
   "source": [
    "# initiate video capture, you may need to change this depending on your camera\n",
    "cap = cv2.VideoCapture(0)\n",
    "\n",
    "with mp_face_mesh.FaceMesh(\n",
    "    static_image_mode=True,\n",
    "    refine_landmarks=True,\n",
    "    max_num_faces=2,\n",
    "    min_detection_confidence=0.5) as face_mesh:\n",
    "  while cap.isOpened():\n",
    "    success, image = cap.read()\n",
    "    if not success:\n",
    "      print(\"Ignoring empty camera frame.\")\n",
    "      # If loading a video, use 'break' instead of 'continue'.\n",
    "      continue\n",
    "\n",
    "    # To improve performance, optionally mark the image as not writeable to\n",
    "    # pass by reference.\n",
    "    image.flags.writeable = False\n",
    "    image = cv2.cvtColor(image, cv2.COLOR_BGR2RGB)\n",
    "    results = face_mesh.process(image)\n",
    "\n",
    "    # Draw landmark annotation on the image.\n",
    "    image.flags.writeable = True\n",
    "    image = cv2.cvtColor(image, cv2.COLOR_RGB2BGR)\n",
    "    try:\n",
    "      for face_landmarks in results.multi_face_landmarks:\n",
    "          mp_drawing.draw_landmarks(\n",
    "              image=image,\n",
    "              landmark_list=face_landmarks,\n",
    "              connections=mp_face_mesh.FACEMESH_TESSELATION,\n",
    "              landmark_drawing_spec=None,\n",
    "              connection_drawing_spec=mp_drawing_styles\n",
    "              .get_default_face_mesh_tesselation_style())\n",
    "\t\t# uncomment for drawing face contours\n",
    "          # mp_drawing.draw_landmarks(\n",
    "          #     image=image,\n",
    "          #     landmark_list=face_landmarks,\n",
    "          #     connections=mp_face_mesh.FACEMESH_CONTOURS,\n",
    "          #     landmark_drawing_spec=None,\n",
    "          #     connection_drawing_spec=mp_drawing_styles\n",
    "          #     .get_default_face_mesh_contours_style())\n",
    "\n",
    "\t\t# uncomment for drawing iris contours\n",
    "          # mp_drawing.draw_landmarks(\n",
    "          #     image=image,\n",
    "          #     landmark_list=face_landmarks,\n",
    "          #     connections=mp_face_mesh.FACEMESH_IRISES,\n",
    "          #     landmark_drawing_spec=None,\n",
    "          #     connection_drawing_spec=mp_drawing_styles\n",
    "          #     .get_default_face_mesh_iris_connections_style())\n",
    "    except:\n",
    "      continue\n",
    "      # Flip the image horizontally for a selfie-view display.\n",
    "    cv2.imshow('Mediapipe FaceMesh', cv2.flip(image, 1))\n",
    "    if cv2.waitKey(10) & 0xFF == ord('q'):\n",
    "      break\n",
    "cap.release()\n",
    "cv2.destroyAllWindows()"
   ]
  }
 ],
 "metadata": {
  "kernelspec": {
   "display_name": "mpipe",
   "language": "python",
   "name": "python3"
  },
  "language_info": {
   "codemirror_mode": {
    "name": "ipython",
    "version": 3
   },
   "file_extension": ".py",
   "mimetype": "text/x-python",
   "name": "python",
   "nbconvert_exporter": "python",
   "pygments_lexer": "ipython3",
   "version": "3.9.16"
  },
  "orig_nbformat": 4
 },
 "nbformat": 4,
 "nbformat_minor": 2
}
